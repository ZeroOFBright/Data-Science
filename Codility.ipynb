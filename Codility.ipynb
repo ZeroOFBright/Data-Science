{
  "nbformat": 4,
  "nbformat_minor": 0,
  "metadata": {
    "colab": {
      "name": "Codility.ipynb",
      "provenance": [],
      "authorship_tag": "ABX9TyP+kE9T1re4FEkxwCqHRykT",
      "include_colab_link": true
    },
    "kernelspec": {
      "name": "python3",
      "display_name": "Python 3"
    }
  },
  "cells": [
    {
      "cell_type": "markdown",
      "metadata": {
        "id": "view-in-github",
        "colab_type": "text"
      },
      "source": [
        "<a href=\"https://colab.research.google.com/github/ZeroOFBright/Data-Science/blob/Codility-Test/Codility.ipynb\" target=\"_parent\"><img src=\"https://colab.research.google.com/assets/colab-badge.svg\" alt=\"Open In Colab\"/></a>"
      ]
    },
    {
      "cell_type": "code",
      "metadata": {
        "id": "DX_2lJL_tk92"
      },
      "source": [
        "import pandas as pd\r\n",
        "import numpy as np"
      ],
      "execution_count": null,
      "outputs": []
    },
    {
      "cell_type": "code",
      "metadata": {
        "colab": {
          "base_uri": "https://localhost:8080/"
        },
        "id": "Gf1n6Txuv7rU",
        "outputId": "7396051e-39be-4b8e-fc2c-28ac6ccc20f6"
      },
      "source": [
        "from google.colab import drive\r\n",
        "drive.mount('/content/drive/')"
      ],
      "execution_count": null,
      "outputs": [
        {
          "output_type": "stream",
          "text": [
            "Mounted at /content/drive/\n"
          ],
          "name": "stdout"
        }
      ]
    },
    {
      "cell_type": "code",
      "metadata": {
        "colab": {
          "base_uri": "https://localhost:8080/"
        },
        "id": "PaEp5Hgdv9TC",
        "outputId": "78460752-39db-4b14-e653-f660f345f262"
      },
      "source": [
        "%cd /content/drive/My\\ Drive/Kaggle\r\n",
        "!pwd"
      ],
      "execution_count": null,
      "outputs": [
        {
          "output_type": "stream",
          "text": [
            "/content/drive/My Drive/Kaggle\n",
            "/content/drive/My Drive/Kaggle\n"
          ],
          "name": "stdout"
        }
      ]
    },
    {
      "cell_type": "code",
      "metadata": {
        "colab": {
          "base_uri": "https://localhost:8080/",
          "height": 419
        },
        "id": "FTc_I0iYwCGy",
        "outputId": "4b0e4114-0c9e-4a3b-8462-ebf116723643"
      },
      "source": [
        "df = pd.read_csv(\"realest.csv\")\r\n",
        "df"
      ],
      "execution_count": null,
      "outputs": [
        {
          "output_type": "execute_result",
          "data": {
            "text/html": [
              "<div>\n",
              "<style scoped>\n",
              "    .dataframe tbody tr th:only-of-type {\n",
              "        vertical-align: middle;\n",
              "    }\n",
              "\n",
              "    .dataframe tbody tr th {\n",
              "        vertical-align: top;\n",
              "    }\n",
              "\n",
              "    .dataframe thead th {\n",
              "        text-align: right;\n",
              "    }\n",
              "</style>\n",
              "<table border=\"1\" class=\"dataframe\">\n",
              "  <thead>\n",
              "    <tr style=\"text-align: right;\">\n",
              "      <th></th>\n",
              "      <th>Price</th>\n",
              "      <th>Bedroom</th>\n",
              "      <th>Space</th>\n",
              "      <th>Room</th>\n",
              "      <th>Lot</th>\n",
              "      <th>Tax</th>\n",
              "      <th>Bathroom</th>\n",
              "      <th>Garage</th>\n",
              "      <th>Condition</th>\n",
              "    </tr>\n",
              "  </thead>\n",
              "  <tbody>\n",
              "    <tr>\n",
              "      <th>0</th>\n",
              "      <td>53.0</td>\n",
              "      <td>2.0</td>\n",
              "      <td>967.0</td>\n",
              "      <td>5.0</td>\n",
              "      <td>39.0</td>\n",
              "      <td>652.0</td>\n",
              "      <td>1.5</td>\n",
              "      <td>0.0</td>\n",
              "      <td>0.0</td>\n",
              "    </tr>\n",
              "    <tr>\n",
              "      <th>1</th>\n",
              "      <td>55.0</td>\n",
              "      <td>2.0</td>\n",
              "      <td>815.0</td>\n",
              "      <td>5.0</td>\n",
              "      <td>33.0</td>\n",
              "      <td>1000.0</td>\n",
              "      <td>1.0</td>\n",
              "      <td>2.0</td>\n",
              "      <td>1.0</td>\n",
              "    </tr>\n",
              "    <tr>\n",
              "      <th>2</th>\n",
              "      <td>56.0</td>\n",
              "      <td>3.0</td>\n",
              "      <td>900.0</td>\n",
              "      <td>5.0</td>\n",
              "      <td>35.0</td>\n",
              "      <td>897.0</td>\n",
              "      <td>1.5</td>\n",
              "      <td>1.0</td>\n",
              "      <td>0.0</td>\n",
              "    </tr>\n",
              "    <tr>\n",
              "      <th>3</th>\n",
              "      <td>58.0</td>\n",
              "      <td>3.0</td>\n",
              "      <td>1007.0</td>\n",
              "      <td>6.0</td>\n",
              "      <td>24.0</td>\n",
              "      <td>964.0</td>\n",
              "      <td>1.5</td>\n",
              "      <td>2.0</td>\n",
              "      <td>0.0</td>\n",
              "    </tr>\n",
              "    <tr>\n",
              "      <th>4</th>\n",
              "      <td>64.0</td>\n",
              "      <td>3.0</td>\n",
              "      <td>1100.0</td>\n",
              "      <td>7.0</td>\n",
              "      <td>50.0</td>\n",
              "      <td>1099.0</td>\n",
              "      <td>1.5</td>\n",
              "      <td>1.5</td>\n",
              "      <td>0.0</td>\n",
              "    </tr>\n",
              "    <tr>\n",
              "      <th>...</th>\n",
              "      <td>...</td>\n",
              "      <td>...</td>\n",
              "      <td>...</td>\n",
              "      <td>...</td>\n",
              "      <td>...</td>\n",
              "      <td>...</td>\n",
              "      <td>...</td>\n",
              "      <td>...</td>\n",
              "      <td>...</td>\n",
              "    </tr>\n",
              "    <tr>\n",
              "      <th>152</th>\n",
              "      <td>44.0</td>\n",
              "      <td>3.0</td>\n",
              "      <td>820.0</td>\n",
              "      <td>5.0</td>\n",
              "      <td>27.0</td>\n",
              "      <td>NaN</td>\n",
              "      <td>1.0</td>\n",
              "      <td>0.0</td>\n",
              "      <td>1.0</td>\n",
              "    </tr>\n",
              "    <tr>\n",
              "      <th>153</th>\n",
              "      <td>43.0</td>\n",
              "      <td>2.0</td>\n",
              "      <td>593.0</td>\n",
              "      <td>4.0</td>\n",
              "      <td>30.0</td>\n",
              "      <td>465.0</td>\n",
              "      <td>2.0</td>\n",
              "      <td>1.0</td>\n",
              "      <td>0.0</td>\n",
              "    </tr>\n",
              "    <tr>\n",
              "      <th>154</th>\n",
              "      <td>53.0</td>\n",
              "      <td>3.0</td>\n",
              "      <td>716.0</td>\n",
              "      <td>6.0</td>\n",
              "      <td>30.0</td>\n",
              "      <td>585.0</td>\n",
              "      <td>1.0</td>\n",
              "      <td>2.0</td>\n",
              "      <td>1.0</td>\n",
              "    </tr>\n",
              "    <tr>\n",
              "      <th>155</th>\n",
              "      <td>62.0</td>\n",
              "      <td>4.0</td>\n",
              "      <td>951.0</td>\n",
              "      <td>7.0</td>\n",
              "      <td>30.0</td>\n",
              "      <td>895.0</td>\n",
              "      <td>2.0</td>\n",
              "      <td>1.0</td>\n",
              "      <td>0.0</td>\n",
              "    </tr>\n",
              "    <tr>\n",
              "      <th>156</th>\n",
              "      <td>NaN</td>\n",
              "      <td>NaN</td>\n",
              "      <td>NaN</td>\n",
              "      <td>NaN</td>\n",
              "      <td>NaN</td>\n",
              "      <td>NaN</td>\n",
              "      <td>NaN</td>\n",
              "      <td>NaN</td>\n",
              "      <td>NaN</td>\n",
              "    </tr>\n",
              "  </tbody>\n",
              "</table>\n",
              "<p>157 rows × 9 columns</p>\n",
              "</div>"
            ],
            "text/plain": [
              "     Price  Bedroom   Space  Room   Lot     Tax  Bathroom  Garage  Condition\n",
              "0     53.0      2.0   967.0   5.0  39.0   652.0       1.5     0.0        0.0\n",
              "1     55.0      2.0   815.0   5.0  33.0  1000.0       1.0     2.0        1.0\n",
              "2     56.0      3.0   900.0   5.0  35.0   897.0       1.5     1.0        0.0\n",
              "3     58.0      3.0  1007.0   6.0  24.0   964.0       1.5     2.0        0.0\n",
              "4     64.0      3.0  1100.0   7.0  50.0  1099.0       1.5     1.5        0.0\n",
              "..     ...      ...     ...   ...   ...     ...       ...     ...        ...\n",
              "152   44.0      3.0   820.0   5.0  27.0     NaN       1.0     0.0        1.0\n",
              "153   43.0      2.0   593.0   4.0  30.0   465.0       2.0     1.0        0.0\n",
              "154   53.0      3.0   716.0   6.0  30.0   585.0       1.0     2.0        1.0\n",
              "155   62.0      4.0   951.0   7.0  30.0   895.0       2.0     1.0        0.0\n",
              "156    NaN      NaN     NaN   NaN   NaN     NaN       NaN     NaN        NaN\n",
              "\n",
              "[157 rows x 9 columns]"
            ]
          },
          "metadata": {
            "tags": []
          },
          "execution_count": 5
        }
      ]
    },
    {
      "cell_type": "code",
      "metadata": {
        "colab": {
          "base_uri": "https://localhost:8080/"
        },
        "id": "feZG6uV5wORS",
        "outputId": "9b6c20e1-1eb2-4b8c-e192-6fd6748ca4fe"
      },
      "source": [
        "cleanData = df.dropna()\r\n",
        "cleanData.isnull().sum()"
      ],
      "execution_count": null,
      "outputs": [
        {
          "output_type": "execute_result",
          "data": {
            "text/plain": [
              "Price        0\n",
              "Bedroom      0\n",
              "Space        0\n",
              "Room         0\n",
              "Lot          0\n",
              "Tax          0\n",
              "Bathroom     0\n",
              "Garage       0\n",
              "Condition    0\n",
              "dtype: int64"
            ]
          },
          "metadata": {
            "tags": []
          },
          "execution_count": 13
        }
      ]
    },
    {
      "cell_type": "code",
      "metadata": {
        "colab": {
          "base_uri": "https://localhost:8080/"
        },
        "id": "iJ7S03JbwTDS",
        "outputId": "1c266d0e-e30c-4017-ce62-ce6b388a2c7f"
      },
      "source": [
        "tax = cleanData['Tax'][(cleanData['Bathroom'] == 2) & (cleanData['Bedroom'] == 4)]\r\n",
        "mean = tax.mean()\r\n",
        "std = tax.std()\r\n",
        "median = tax.median()\r\n",
        "max = tax.max()\r\n",
        "min = tax.min()\r\n"
      ],
      "execution_count": null,
      "outputs": [
        {
          "output_type": "execute_result",
          "data": {
            "text/plain": [
              "5      960.0\n",
              "43     554.0\n",
              "57     965.0\n",
              "69     591.0\n",
              "77     885.0\n",
              "83     975.0\n",
              "135    941.0\n",
              "155    895.0\n",
              "Name: Tax, dtype: float64"
            ]
          },
          "metadata": {
            "tags": []
          },
          "execution_count": 63
        }
      ]
    },
    {
      "cell_type": "code",
      "metadata": {
        "colab": {
          "base_uri": "https://localhost:8080/",
          "height": 419
        },
        "id": "FkbcwbfJwiYc",
        "outputId": "f4417ced-ed09-4c8e-e73d-ce07e9bf34ee"
      },
      "source": [
        "dataFrame = cleanData.filter([\"Space\",\"Price\"]).query(\"Space > 800\").sort_values(by=[\"Price\"],ascending = False)\r\n",
        "dataFrame"
      ],
      "execution_count": null,
      "outputs": [
        {
          "output_type": "execute_result",
          "data": {
            "text/html": [
              "<div>\n",
              "<style scoped>\n",
              "    .dataframe tbody tr th:only-of-type {\n",
              "        vertical-align: middle;\n",
              "    }\n",
              "\n",
              "    .dataframe tbody tr th {\n",
              "        vertical-align: top;\n",
              "    }\n",
              "\n",
              "    .dataframe thead th {\n",
              "        text-align: right;\n",
              "    }\n",
              "</style>\n",
              "<table border=\"1\" class=\"dataframe\">\n",
              "  <thead>\n",
              "    <tr style=\"text-align: right;\">\n",
              "      <th></th>\n",
              "      <th>Space</th>\n",
              "      <th>Price</th>\n",
              "    </tr>\n",
              "  </thead>\n",
              "  <tbody>\n",
              "    <tr>\n",
              "      <th>114</th>\n",
              "      <td>2293.0</td>\n",
              "      <td>90.0</td>\n",
              "    </tr>\n",
              "    <tr>\n",
              "      <th>36</th>\n",
              "      <td>2278.0</td>\n",
              "      <td>88.0</td>\n",
              "    </tr>\n",
              "    <tr>\n",
              "      <th>140</th>\n",
              "      <td>2277.0</td>\n",
              "      <td>88.0</td>\n",
              "    </tr>\n",
              "    <tr>\n",
              "      <th>88</th>\n",
              "      <td>2228.0</td>\n",
              "      <td>88.0</td>\n",
              "    </tr>\n",
              "    <tr>\n",
              "      <th>62</th>\n",
              "      <td>2295.0</td>\n",
              "      <td>85.0</td>\n",
              "    </tr>\n",
              "    <tr>\n",
              "      <th>...</th>\n",
              "      <td>...</td>\n",
              "      <td>...</td>\n",
              "    </tr>\n",
              "    <tr>\n",
              "      <th>19</th>\n",
              "      <td>1137.0</td>\n",
              "      <td>35.0</td>\n",
              "    </tr>\n",
              "    <tr>\n",
              "      <th>45</th>\n",
              "      <td>1142.0</td>\n",
              "      <td>35.0</td>\n",
              "    </tr>\n",
              "    <tr>\n",
              "      <th>71</th>\n",
              "      <td>1095.0</td>\n",
              "      <td>34.0</td>\n",
              "    </tr>\n",
              "    <tr>\n",
              "      <th>97</th>\n",
              "      <td>1087.0</td>\n",
              "      <td>34.0</td>\n",
              "    </tr>\n",
              "    <tr>\n",
              "      <th>149</th>\n",
              "      <td>1065.0</td>\n",
              "      <td>32.0</td>\n",
              "    </tr>\n",
              "  </tbody>\n",
              "</table>\n",
              "<p>97 rows × 2 columns</p>\n",
              "</div>"
            ],
            "text/plain": [
              "      Space  Price\n",
              "114  2293.0   90.0\n",
              "36   2278.0   88.0\n",
              "140  2277.0   88.0\n",
              "88   2228.0   88.0\n",
              "62   2295.0   85.0\n",
              "..      ...    ...\n",
              "19   1137.0   35.0\n",
              "45   1142.0   35.0\n",
              "71   1095.0   34.0\n",
              "97   1087.0   34.0\n",
              "149  1065.0   32.0\n",
              "\n",
              "[97 rows x 2 columns]"
            ]
          },
          "metadata": {
            "tags": []
          },
          "execution_count": 39
        }
      ]
    },
    {
      "cell_type": "code",
      "metadata": {
        "colab": {
          "base_uri": "https://localhost:8080/"
        },
        "id": "eR1LD3KY0CEX",
        "outputId": "6b27e7fe-f0bc-4ad5-fb46-e33c935d697f"
      },
      "source": [
        "num = cleanData[\"Lot\"].quantile(4/5)\r\n",
        "num"
      ],
      "execution_count": null,
      "outputs": [
        {
          "output_type": "execute_result",
          "data": {
            "text/plain": [
              "39.60000000000001"
            ]
          },
          "metadata": {
            "tags": []
          },
          "execution_count": 44
        }
      ]
    },
    {
      "cell_type": "code",
      "metadata": {
        "colab": {
          "base_uri": "https://localhost:8080/",
          "height": 49
        },
        "id": "CIePmhXB0bir",
        "outputId": "df5550cd-49ea-4564-f93f-0a60dc7a745e"
      },
      "source": [
        "predict = cleanData.query(\"Bedroom == 3 and Space == 1500.0 and Room == 8 and Lot == 40 and Tax == 1000 and Bathroom == 2 and Garage == 1 and Condition == 0 \")\r\n",
        "predict"
      ],
      "execution_count": null,
      "outputs": [
        {
          "output_type": "execute_result",
          "data": {
            "text/html": [
              "<div>\n",
              "<style scoped>\n",
              "    .dataframe tbody tr th:only-of-type {\n",
              "        vertical-align: middle;\n",
              "    }\n",
              "\n",
              "    .dataframe tbody tr th {\n",
              "        vertical-align: top;\n",
              "    }\n",
              "\n",
              "    .dataframe thead th {\n",
              "        text-align: right;\n",
              "    }\n",
              "</style>\n",
              "<table border=\"1\" class=\"dataframe\">\n",
              "  <thead>\n",
              "    <tr style=\"text-align: right;\">\n",
              "      <th></th>\n",
              "      <th>Price</th>\n",
              "      <th>Bedroom</th>\n",
              "      <th>Space</th>\n",
              "      <th>Room</th>\n",
              "      <th>Lot</th>\n",
              "      <th>Tax</th>\n",
              "      <th>Bathroom</th>\n",
              "      <th>Garage</th>\n",
              "      <th>Condition</th>\n",
              "    </tr>\n",
              "  </thead>\n",
              "  <tbody>\n",
              "  </tbody>\n",
              "</table>\n",
              "</div>"
            ],
            "text/plain": [
              "Empty DataFrame\n",
              "Columns: [Price, Bedroom, Space, Room, Lot, Tax, Bathroom, Garage, Condition]\n",
              "Index: []"
            ]
          },
          "metadata": {
            "tags": []
          },
          "execution_count": 66
        }
      ]
    },
    {
      "cell_type": "code",
      "metadata": {
        "colab": {
          "base_uri": "https://localhost:8080/",
          "height": 129
        },
        "id": "hKWIciIh9aHa",
        "outputId": "de68350b-86f4-45db-87c7-a12dcea364f3"
      },
      "source": [
        "import math\r\n",
        "def solution(indices, K):\r\n",
        "  # create fold set\r\n",
        "  fold_set = []\r\n",
        "  i = 0\r\n",
        "  set_len = math.ceil(len(indices) / K)\r\n",
        "  while i + set_len <= len(indices):\r\n",
        "    fold_set.append(indices[i:i+set_len])\r\n",
        "    i += set_len\r\n",
        "  if i < len(indices):\r\n",
        "    fold_set.append(indices[i:i+set_len])\r\n",
        "\r\n",
        "  # print(fold_set)\r\n",
        "  # train test\r\n",
        "  result = []\r\n",
        "  tmp = []\r\n",
        "  for k_fold in range(K):\r\n",
        "    for i in range(len(fold_set)):\r\n",
        "      if i < K - k_fold - 1:\r\n",
        "        result.append(fold_set[i])\r\n",
        "      elif i > K - k_fold - 1:\r\n",
        "        result.append(fold_set[i])\r\n",
        "    result.append(fold_set[K - k_fold - 1])\r\n",
        "  return result"
      ],
      "execution_count": null,
      "outputs": [
        {
          "output_type": "error",
          "ename": "IndentationError",
          "evalue": "ignored",
          "traceback": [
            "\u001b[0;36m  File \u001b[0;32m\"<ipython-input-67-139755ecb7fa>\"\u001b[0;36m, line \u001b[0;32m11\u001b[0m\n\u001b[0;31m    fold_set.append(indices[i:i+set_len])\u001b[0m\n\u001b[0m           ^\u001b[0m\n\u001b[0;31mIndentationError\u001b[0m\u001b[0;31m:\u001b[0m expected an indented block\n"
          ]
        }
      ]
    },
    {
      "cell_type": "code",
      "metadata": {
        "colab": {
          "base_uri": "https://localhost:8080/"
        },
        "id": "Tu-6xQqT9an9",
        "outputId": "d012c015-9944-4299-8acc-538e11fca523"
      },
      "source": [
        "indices = [1, 2, 3]\r\n",
        "K = 2\r\n",
        "solution(indices,K)"
      ],
      "execution_count": null,
      "outputs": [
        {
          "output_type": "execute_result",
          "data": {
            "text/plain": [
              "[[1, 2], [3], [3], [1, 2]]"
            ]
          },
          "metadata": {
            "tags": []
          },
          "execution_count": 57
        }
      ]
    },
    {
      "cell_type": "code",
      "metadata": {
        "colab": {
          "base_uri": "https://localhost:8080/"
        },
        "id": "UMBB_p5A_HVo",
        "outputId": "f9be9bb1-72dd-495a-b2b3-9a19bc7d01bd"
      },
      "source": [
        "import math\r\n",
        "\r\n",
        "\r\n",
        "def solution(indices, K):\r\n",
        "    # create fold set\r\n",
        "    fold_set = []\r\n",
        "    i = 0\r\n",
        "    set_len = math.ceil(len(indices) / K)\r\n",
        "    while i + set_len <= len(indices):\r\n",
        "        fold_set.append(indices[i:i+set_len])\r\n",
        "        i += set_len\r\n",
        "    if i < len(indices):\r\n",
        "        fold_set.append(indices[i:i+set_len])\r\n",
        "\r\n",
        "    # print(fold_set)\r\n",
        "    # train test\r\n",
        "    result = []\r\n",
        "    tmp = []\r\n",
        "    for k_fold in range(K):\r\n",
        "        for i in range(len(fold_set)):\r\n",
        "            if i < K - k_fold - 1:\r\n",
        "                result.append(fold_set[i])\r\n",
        "            elif i > K - k_fold - 1:\r\n",
        "                result.append(fold_set[i])\r\n",
        "        result.append(fold_set[K - k_fold - 1])\r\n",
        "    return result\r\n",
        "\r\n",
        "indices = [1, 2, 3]\r\n",
        "K = 2\r\n",
        "print(solution(indices,K))\r\n"
      ],
      "execution_count": null,
      "outputs": [
        {
          "output_type": "stream",
          "text": [
            "[[1, 2], [3], [3], [1, 2]]\n"
          ],
          "name": "stdout"
        }
      ]
    }
  ]
}