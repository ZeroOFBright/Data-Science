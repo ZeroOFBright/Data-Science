{
  "nbformat": 4,
  "nbformat_minor": 0,
  "metadata": {
    "colab": {
      "name": "LSTM .ipynb",
      "provenance": [],
      "collapsed_sections": [],
      "include_colab_link": true
    },
    "kernelspec": {
      "name": "python3",
      "display_name": "Python 3"
    }
  },
  "cells": [
    {
      "cell_type": "markdown",
      "metadata": {
        "id": "view-in-github",
        "colab_type": "text"
      },
      "source": [
        "<a href=\"https://colab.research.google.com/github/ZeroOFBright/Data-Science/blob/LSTM/LSTM_.ipynb\" target=\"_parent\"><img src=\"https://colab.research.google.com/assets/colab-badge.svg\" alt=\"Open In Colab\"/></a>"
      ]
    },
    {
      "cell_type": "markdown",
      "metadata": {
        "id": "1CnVFSgXwcE3"
      },
      "source": [
        "# Predict number  of passengers in last 12 months "
      ]
    },
    {
      "cell_type": "markdown",
      "metadata": {
        "id": "oBWqxB2mczoU"
      },
      "source": [
        "# Pre Process"
      ]
    },
    {
      "cell_type": "markdown",
      "metadata": {
        "id": "CSJcC6s2wtT9"
      },
      "source": [
        ""
      ]
    },
    {
      "cell_type": "code",
      "metadata": {
        "id": "_mdE65GVq4lL"
      },
      "source": [
        "import torch\r\n",
        "import torch.nn as nn\r\n",
        "\r\n",
        "import seaborn as sns\r\n",
        "import numpy as np\r\n",
        "import pandas as pd \r\n",
        "import matplotlib.pyplot as plt\r\n",
        "%matplotlib inline"
      ],
      "execution_count": null,
      "outputs": []
    },
    {
      "cell_type": "markdown",
      "metadata": {
        "id": "v_QOpYAww8Lf"
      },
      "source": [
        "Load Dataset from seaborn"
      ]
    },
    {
      "cell_type": "code",
      "metadata": {
        "colab": {
          "base_uri": "https://localhost:8080/",
          "height": 204
        },
        "id": "hwGLYXCstfUG",
        "outputId": "183182f5-d722-4675-da2d-0d26c531799d"
      },
      "source": [
        "flight_data = sns.load_dataset(\"flights\")\r\n",
        "flight_data.head()"
      ],
      "execution_count": null,
      "outputs": [
        {
          "output_type": "execute_result",
          "data": {
            "text/html": [
              "<div>\n",
              "<style scoped>\n",
              "    .dataframe tbody tr th:only-of-type {\n",
              "        vertical-align: middle;\n",
              "    }\n",
              "\n",
              "    .dataframe tbody tr th {\n",
              "        vertical-align: top;\n",
              "    }\n",
              "\n",
              "    .dataframe thead th {\n",
              "        text-align: right;\n",
              "    }\n",
              "</style>\n",
              "<table border=\"1\" class=\"dataframe\">\n",
              "  <thead>\n",
              "    <tr style=\"text-align: right;\">\n",
              "      <th></th>\n",
              "      <th>year</th>\n",
              "      <th>month</th>\n",
              "      <th>passengers</th>\n",
              "    </tr>\n",
              "  </thead>\n",
              "  <tbody>\n",
              "    <tr>\n",
              "      <th>0</th>\n",
              "      <td>1949</td>\n",
              "      <td>Jan</td>\n",
              "      <td>112</td>\n",
              "    </tr>\n",
              "    <tr>\n",
              "      <th>1</th>\n",
              "      <td>1949</td>\n",
              "      <td>Feb</td>\n",
              "      <td>118</td>\n",
              "    </tr>\n",
              "    <tr>\n",
              "      <th>2</th>\n",
              "      <td>1949</td>\n",
              "      <td>Mar</td>\n",
              "      <td>132</td>\n",
              "    </tr>\n",
              "    <tr>\n",
              "      <th>3</th>\n",
              "      <td>1949</td>\n",
              "      <td>Apr</td>\n",
              "      <td>129</td>\n",
              "    </tr>\n",
              "    <tr>\n",
              "      <th>4</th>\n",
              "      <td>1949</td>\n",
              "      <td>May</td>\n",
              "      <td>121</td>\n",
              "    </tr>\n",
              "  </tbody>\n",
              "</table>\n",
              "</div>"
            ],
            "text/plain": [
              "   year month  passengers\n",
              "0  1949   Jan         112\n",
              "1  1949   Feb         118\n",
              "2  1949   Mar         132\n",
              "3  1949   Apr         129\n",
              "4  1949   May         121"
            ]
          },
          "metadata": {
            "tags": []
          },
          "execution_count": 2
        }
      ]
    },
    {
      "cell_type": "markdown",
      "metadata": {
        "id": "KhCNPzm6xC2n"
      },
      "source": [
        "144 row = 12 Month * 12 Year"
      ]
    },
    {
      "cell_type": "code",
      "metadata": {
        "colab": {
          "base_uri": "https://localhost:8080/"
        },
        "id": "HZoSNtX5t4l4",
        "outputId": "0a50723e-5e16-4165-b92e-1679007bef57"
      },
      "source": [
        "flight_data.shape"
      ],
      "execution_count": null,
      "outputs": [
        {
          "output_type": "execute_result",
          "data": {
            "text/plain": [
              "(144, 3)"
            ]
          },
          "metadata": {
            "tags": []
          },
          "execution_count": 3
        }
      ]
    },
    {
      "cell_type": "code",
      "metadata": {
        "id": "2oN7OiCz3-n5"
      },
      "source": [
        "fig_size = plt.rcParams[\"figure.figsize\"]\r\n",
        "fig_size[0] = 15\r\n",
        "fig_size[1] = 5\r\n",
        "plt.rcParams[\"figure.figsize\"] = fig_size"
      ],
      "execution_count": null,
      "outputs": []
    },
    {
      "cell_type": "code",
      "metadata": {
        "colab": {
          "base_uri": "https://localhost:8080/",
          "height": 367
        },
        "id": "esipPrHbxgim",
        "outputId": "d762a20a-a597-4c57-b966-b57b73885769"
      },
      "source": [
        "plt.title('passenger in each month\"')\r\n",
        "plt.ylabel(\"Passengers\")\r\n",
        "plt.xlabel(\"Months\")\r\n",
        "plt.autoscale(axis=\"x\",tight=True)\r\n",
        "plt.plot(flight_data[\"passengers\"])"
      ],
      "execution_count": null,
      "outputs": [
        {
          "output_type": "execute_result",
          "data": {
            "text/plain": [
              "[<matplotlib.lines.Line2D at 0x7f14c7433b70>]"
            ]
          },
          "metadata": {
            "tags": []
          },
          "execution_count": 5
        },
        {
          "output_type": "display_data",
          "data": {
            "image/png": "[encoded data removed]",
            "text/plain": [
              "<Figure size 1080x360 with 1 Axes>"
            ]
          },
          "metadata": {
            "tags": [],
            "needs_background": "light"
          }
        }
      ]
    },
    {
      "cell_type": "code",
      "metadata": {
        "colab": {
          "base_uri": "https://localhost:8080/"
        },
        "id": "DLA7opEjyGtU",
        "outputId": "f4e68086-ef4a-4ac6-e8bf-6b36b3649b3e"
      },
      "source": [
        "flight_data.columns"
      ],
      "execution_count": null,
      "outputs": [
        {
          "output_type": "execute_result",
          "data": {
            "text/plain": [
              "Index(['year', 'month', 'passengers'], dtype='object')"
            ]
          },
          "metadata": {
            "tags": []
          },
          "execution_count": 6
        }
      ]
    },
    {
      "cell_type": "code",
      "metadata": {
        "id": "e5-cc8Dm4Uzu"
      },
      "source": [
        "passengers = flight_data['passengers'].values.astype(float)"
      ],
      "execution_count": null,
      "outputs": []
    },
    {
      "cell_type": "code",
      "metadata": {
        "colab": {
          "base_uri": "https://localhost:8080/"
        },
        "id": "035o5Zcr4i_V",
        "outputId": "9b0ef982-6fde-4d2b-fbb9-b33c9633ee54"
      },
      "source": [
        "passengers"
      ],
      "execution_count": null,
      "outputs": [
        {
          "output_type": "execute_result",
          "data": {
            "text/plain": [
              "array([112., 118., 132., 129., 121., 135., 148., 148., 136., 119., 104.,\n",
              "       118., 115., 126., 141., 135., 125., 149., 170., 170., 158., 133.,\n",
              "       114., 140., 145., 150., 178., 163., 172., 178., 199., 199., 184.,\n",
              "       162., 146., 166., 171., 180., 193., 181., 183., 218., 230., 242.,\n",
              "       209., 191., 172., 194., 196., 196., 236., 235., 229., 243., 264.,\n",
              "       272., 237., 211., 180., 201., 204., 188., 235., 227., 234., 264.,\n",
              "       302., 293., 259., 229., 203., 229., 242., 233., 267., 269., 270.,\n",
              "       315., 364., 347., 312., 274., 237., 278., 284., 277., 317., 313.,\n",
              "       318., 374., 413., 405., 355., 306., 271., 306., 315., 301., 356.,\n",
              "       348., 355., 422., 465., 467., 404., 347., 305., 336., 340., 318.,\n",
              "       362., 348., 363., 435., 491., 505., 404., 359., 310., 337., 360.,\n",
              "       342., 406., 396., 420., 472., 548., 559., 463., 407., 362., 405.,\n",
              "       417., 391., 419., 461., 472., 535., 622., 606., 508., 461., 390.,\n",
              "       432.])"
            ]
          },
          "metadata": {
            "tags": []
          },
          "execution_count": 8
        }
      ]
    },
    {
      "cell_type": "code",
      "metadata": {
        "colab": {
          "base_uri": "https://localhost:8080/"
        },
        "id": "i5OjRY_64pXX",
        "outputId": "ee39a4f1-e280-4b1b-ce2f-cd8a629a0a26"
      },
      "source": [
        "train_data = passengers[:-12]\r\n",
        "len(train_data)"
      ],
      "execution_count": null,
      "outputs": [
        {
          "output_type": "execute_result",
          "data": {
            "text/plain": [
              "132"
            ]
          },
          "metadata": {
            "tags": []
          },
          "execution_count": 9
        }
      ]
    },
    {
      "cell_type": "code",
      "metadata": {
        "colab": {
          "base_uri": "https://localhost:8080/"
        },
        "id": "bpf47vLt7tbh",
        "outputId": "39a6d7d9-3005-4989-de74-d0e14b70da90"
      },
      "source": [
        "test_data = passengers[-12:]\r\n",
        "len(test_data)"
      ],
      "execution_count": null,
      "outputs": [
        {
          "output_type": "execute_result",
          "data": {
            "text/plain": [
              "12"
            ]
          },
          "metadata": {
            "tags": []
          },
          "execution_count": 10
        }
      ]
    },
    {
      "cell_type": "markdown",
      "metadata": {
        "id": "WzgKzqrUCC5T"
      },
      "source": [
        "Normalized Data in to range (-1,1)"
      ]
    },
    {
      "cell_type": "code",
      "metadata": {
        "id": "kqW-8psG77km"
      },
      "source": [
        "from sklearn.preprocessing import MinMaxScaler\r\n",
        "\r\n",
        "scaler = MinMaxScaler(feature_range=(-1,1))\r\n",
        "train_data_normalized = scaler.fit_transform(train_data.reshape(-1,1))"
      ],
      "execution_count": null,
      "outputs": []
    },
    {
      "cell_type": "code",
      "metadata": {
        "colab": {
          "base_uri": "https://localhost:8080/"
        },
        "id": "DffV0ELT8JvW",
        "outputId": "d6f57f48-21fa-45df-cc57-215a8f267219"
      },
      "source": [
        "train_data_normalized[:5]"
      ],
      "execution_count": null,
      "outputs": [
        {
          "output_type": "execute_result",
          "data": {
            "text/plain": [
              "array([[-0.96483516],\n",
              "       [-0.93846154],\n",
              "       [-0.87692308],\n",
              "       [-0.89010989],\n",
              "       [-0.92527473]])"
            ]
          },
          "metadata": {
            "tags": []
          },
          "execution_count": 12
        }
      ]
    },
    {
      "cell_type": "markdown",
      "metadata": {
        "id": "rdc-TOCcCq9e"
      },
      "source": [
        "Convert data to tensor "
      ]
    },
    {
      "cell_type": "code",
      "metadata": {
        "id": "ZFxLLAX5Bru1"
      },
      "source": [
        "train_data_normalized = torch.FloatTensor(train_data_normalized).view(-1)"
      ],
      "execution_count": null,
      "outputs": []
    },
    {
      "cell_type": "code",
      "metadata": {
        "id": "UJKh1ZseCplj"
      },
      "source": [
        "train_window = 12"
      ],
      "execution_count": null,
      "outputs": []
    },
    {
      "cell_type": "markdown",
      "metadata": {
        "id": "y9ibBuZ4a7Y-"
      },
      "source": [
        "แปลงข้อมูลจาก ข้อมูลปกติ ให้อยู่ในรูปแบบ tuple  (12 เดือนแรก , เดือนที่13)  "
      ]
    },
    {
      "cell_type": "code",
      "metadata": {
        "id": "o2RM-kdJDZon"
      },
      "source": [
        "def create_inout_sequences(input_data, tw):\r\n",
        "    inout_seq = []\r\n",
        "    L = len(input_data)\r\n",
        "    for i in range(L-tw):\r\n",
        "        train_seq = input_data[i:i+tw]\r\n",
        "        train_label = input_data[i+tw:i+tw+1]\r\n",
        "        inout_seq.append((train_seq ,train_label))\r\n",
        "    return inout_seq"
      ],
      "execution_count": null,
      "outputs": []
    },
    {
      "cell_type": "code",
      "metadata": {
        "id": "D0aOUVCgDnF-"
      },
      "source": [
        "train_inout_seq = create_inout_sequences(train_data_normalized, train_window)"
      ],
      "execution_count": null,
      "outputs": []
    },
    {
      "cell_type": "code",
      "metadata": {
        "colab": {
          "base_uri": "https://localhost:8080/"
        },
        "id": "3-8fzcXCFGKb",
        "outputId": "6db31e34-cf14-46fd-b8a5-7cd5cf46b39f"
      },
      "source": [
        "len(train_inout_seq)"
      ],
      "execution_count": null,
      "outputs": [
        {
          "output_type": "execute_result",
          "data": {
            "text/plain": [
              "120"
            ]
          },
          "metadata": {
            "tags": []
          },
          "execution_count": 17
        }
      ]
    },
    {
      "cell_type": "code",
      "metadata": {
        "colab": {
          "base_uri": "https://localhost:8080/"
        },
        "id": "-KvnWJs6FJAT",
        "outputId": "6f545633-4daf-4bba-859e-53d38dc9236a"
      },
      "source": [
        "train_inout_seq[:5]"
      ],
      "execution_count": null,
      "outputs": [
        {
          "output_type": "execute_result",
          "data": {
            "text/plain": [
              "[(tensor([-0.9648, -0.9385, -0.8769, -0.8901, -0.9253, -0.8637, -0.8066, -0.8066,\n",
              "          -0.8593, -0.9341, -1.0000, -0.9385]), tensor([-0.9516])),\n",
              " (tensor([-0.9385, -0.8769, -0.8901, -0.9253, -0.8637, -0.8066, -0.8066, -0.8593,\n",
              "          -0.9341, -1.0000, -0.9385, -0.9516]),\n",
              "  tensor([-0.9033])),\n",
              " (tensor([-0.8769, -0.8901, -0.9253, -0.8637, -0.8066, -0.8066, -0.8593, -0.9341,\n",
              "          -1.0000, -0.9385, -0.9516, -0.9033]), tensor([-0.8374])),\n",
              " (tensor([-0.8901, -0.9253, -0.8637, -0.8066, -0.8066, -0.8593, -0.9341, -1.0000,\n",
              "          -0.9385, -0.9516, -0.9033, -0.8374]), tensor([-0.8637])),\n",
              " (tensor([-0.9253, -0.8637, -0.8066, -0.8066, -0.8593, -0.9341, -1.0000, -0.9385,\n",
              "          -0.9516, -0.9033, -0.8374, -0.8637]), tensor([-0.9077]))]"
            ]
          },
          "metadata": {
            "tags": []
          },
          "execution_count": 18
        }
      ]
    },
    {
      "cell_type": "markdown",
      "metadata": {
        "id": "nfSIb9bjc8WR"
      },
      "source": [
        "# Create LSTM Model"
      ]
    },
    {
      "cell_type": "markdown",
      "metadata": {
        "id": "qmYfsuW7bQBI"
      },
      "source": [
        "**ส่วนของ init**\r\n",
        "\r\n",
        "input size = ขนาดจำนวนของ feature ใน input ในที่นี้มีแค่ จำนวนของคนโดยสาร เลยใส่ 1\r\n",
        "\r\n",
        "hidden layer size = จำนวน hidden layer กับ จำนวน neurons ใน แต่ละlayer \r\n",
        "\r\n",
        "output size = จำนวน item output เนื่องจากต้องการหา จำนวนของผู้โดยสารใน 1 เดือน เลยใส่ 1  \r\n",
        "\r\n"
      ]
    },
    {
      "cell_type": "markdown",
      "metadata": {
        "id": "hWyFrCFnGd5J"
      },
      "source": [
        "**ในส่วนของ forward**\r\n",
        "\r\n",
        "มีไว้สำหรับส่ง input_seq เข้าไปยัง lstm layer และ เมื่อออกจาก lstm layer ก็จะไหลไปเข้า linear layer\r\n",
        "\r\n",
        "\r\n"
      ]
    },
    {
      "cell_type": "code",
      "metadata": {
        "id": "7uDdDOxldCks"
      },
      "source": [
        "class LSTM(nn.Module):\r\n",
        "    def __init__(self, input_size=1, hidden_layer_size=100, output_size=1):\r\n",
        "        super().__init__()\r\n",
        "        self.hidden_layer_size = hidden_layer_size\r\n",
        "\r\n",
        "        self.lstm = nn.LSTM(input_size, hidden_layer_size, num_layers=1)\r\n",
        "\r\n",
        "        self.linear = nn.Linear(hidden_layer_size, output_size)\r\n",
        "\r\n",
        "        self.hidden_cell = (torch.zeros(1,1,self.hidden_layer_size),\r\n",
        "                            torch.zeros(1,1,self.hidden_layer_size))\r\n",
        "\r\n",
        "    def forward(self, input_seq):\r\n",
        "        lstm_out, self.hidden_cell = self.lstm(input_seq.view(len(input_seq) ,1, -1), self.hidden_cell)\r\n",
        "        predictions = self.linear(lstm_out.view(len(input_seq), -1))\r\n",
        "        return predictions[-1]"
      ],
      "execution_count": null,
      "outputs": []
    },
    {
      "cell_type": "code",
      "metadata": {
        "id": "pjm-nG-3dI1B"
      },
      "source": [
        "model = LSTM()\r\n",
        "loss_function = nn.MSELoss()\r\n",
        "optimizer = torch.optim.Adam(model.parameters(), lr=0.001)"
      ],
      "execution_count": null,
      "outputs": []
    },
    {
      "cell_type": "code",
      "metadata": {
        "colab": {
          "base_uri": "https://localhost:8080/"
        },
        "id": "W7Eig2o8vrn5",
        "outputId": "70fe4546-a679-404b-cabb-a979b3cb24e5"
      },
      "source": [
        "print(model)"
      ],
      "execution_count": null,
      "outputs": [
        {
          "output_type": "stream",
          "text": [
            "LSTM(\n",
            "  (lstm): LSTM(1, 100)\n",
            "  (linear): Linear(in_features=100, out_features=1, bias=True)\n",
            ")\n"
          ],
          "name": "stdout"
        }
      ]
    },
    {
      "cell_type": "markdown",
      "metadata": {
        "id": "kem5zjPvuJtp"
      },
      "source": [
        "# Traing the Model"
      ]
    },
    {
      "cell_type": "code",
      "metadata": {
        "colab": {
          "base_uri": "https://localhost:8080/"
        },
        "id": "tzAKepABvs9H",
        "outputId": "8ccfc8fa-f3f7-4379-86a7-c4822109a002"
      },
      "source": [
        "epochs = 300\r\n",
        "\r\n",
        "for i in range(epochs):\r\n",
        "    for seq, labels in train_inout_seq:\r\n",
        "        optimizer.zero_grad()\r\n",
        "        model.hidden_cell = (torch.zeros(1, 1, model.hidden_layer_size),\r\n",
        "                        torch.zeros(1, 1, model.hidden_layer_size))\r\n",
        "\r\n",
        "        y_pred = model(seq)\r\n",
        "\r\n",
        "        single_loss = loss_function(y_pred, labels)\r\n",
        "        single_loss.backward()\r\n",
        "        optimizer.step()\r\n",
        "\r\n",
        "    if i%25 == 1:\r\n",
        "        print(f'epoch: {i:3} loss: {single_loss.item():10.8f}')\r\n",
        "\r\n",
        "print(f'epoch: {i:3} loss: {single_loss.item():10.10f}')"
      ],
      "execution_count": null,
      "outputs": [
        {
          "output_type": "stream",
          "text": [
            "epoch:   1 loss: 0.00651671\n",
            "epoch:  26 loss: 0.00004014\n",
            "epoch:  51 loss: 0.00014478\n",
            "epoch:  76 loss: 0.00201592\n",
            "epoch: 101 loss: 0.00004278\n",
            "epoch: 126 loss: 0.00062607\n",
            "epoch: 151 loss: 0.00003557\n",
            "epoch: 176 loss: 0.00017674\n",
            "epoch: 201 loss: 0.00057167\n",
            "epoch: 226 loss: 0.00349262\n",
            "epoch: 251 loss: 0.00014493\n",
            "epoch: 276 loss: 0.00189478\n",
            "epoch: 299 loss: 0.0006806817\n"
          ],
          "name": "stdout"
        }
      ]
    },
    {
      "cell_type": "markdown",
      "metadata": {
        "id": "NqazwR9rujhh"
      },
      "source": [
        "# Test Prediction"
      ]
    },
    {
      "cell_type": "code",
      "metadata": {
        "colab": {
          "base_uri": "https://localhost:8080/"
        },
        "id": "Ciy93DDrvuL2",
        "outputId": "8a860063-fe9f-4b6e-bcd8-38e573eac93b"
      },
      "source": [
        "fut_pred = 12\r\n",
        "\r\n",
        "test_inputs = train_data_normalized[-train_window:].tolist()\r\n",
        "print(test_inputs)"
      ],
      "execution_count": null,
      "outputs": [
        {
          "output_type": "stream",
          "text": [
            "[0.12527473270893097, 0.04615384712815285, 0.3274725377559662, 0.2835164964199066, 0.3890109956264496, 0.6175824403762817, 0.9516483545303345, 1.0, 0.5780220031738281, 0.33186814188957214, 0.13406594097614288, 0.32307693362236023]\n"
          ],
          "name": "stdout"
        }
      ]
    },
    {
      "cell_type": "code",
      "metadata": {
        "id": "fVqLzPYjwDAo"
      },
      "source": [
        "model.eval()\r\n",
        "\r\n",
        "for i in range(fut_pred):\r\n",
        "    seq = torch.FloatTensor(test_inputs[-train_window:])\r\n",
        "    with torch.no_grad():\r\n",
        "        model.hidden = (torch.zeros(1, 1, model.hidden_layer_size),\r\n",
        "                        torch.zeros(1, 1, model.hidden_layer_size))\r\n",
        "        test_inputs.append(model(seq).item())"
      ],
      "execution_count": null,
      "outputs": []
    },
    {
      "cell_type": "code",
      "metadata": {
        "colab": {
          "base_uri": "https://localhost:8080/"
        },
        "id": "Ad94k6O-wEw3",
        "outputId": "ddf490e7-6d42-47d5-9345-4b5c9aa6f551"
      },
      "source": [
        "test_inputs[fut_pred:]"
      ],
      "execution_count": null,
      "outputs": [
        {
          "output_type": "execute_result",
          "data": {
            "text/plain": [
              "[0.3998340368270874,\n",
              " 0.2187078297138214,\n",
              " 0.3427259027957916,\n",
              " 0.3090786933898926,\n",
              " 0.3628862202167511,\n",
              " 0.4053935408592224,\n",
              " 0.5424913763999939,\n",
              " 0.6085094213485718,\n",
              " 0.5470132827758789,\n",
              " 0.34096938371658325,\n",
              " 0.2837270498275757,\n",
              " 0.5276466608047485]"
            ]
          },
          "metadata": {
            "tags": []
          },
          "execution_count": 40
        }
      ]
    },
    {
      "cell_type": "code",
      "metadata": {
        "colab": {
          "base_uri": "https://localhost:8080/"
        },
        "id": "09tw96HnwGLP",
        "outputId": "e4fc0aff-e885-403f-f626-90894415d491"
      },
      "source": [
        "actual_predictions = scaler.inverse_transform(np.array(test_inputs[train_window:] ).reshape(-1, 1))\r\n",
        "print(actual_predictions)"
      ],
      "execution_count": null,
      "outputs": [
        {
          "output_type": "stream",
          "text": [
            "[[422.46224338]\n",
            " [381.25603126]\n",
            " [409.47014289]\n",
            " [401.81540275]\n",
            " [414.0566151 ]\n",
            " [423.72703055]\n",
            " [454.91678813]\n",
            " [469.93589336]\n",
            " [455.94552183]\n",
            " [409.0705348 ]\n",
            " [396.04790384]\n",
            " [451.53961533]]\n"
          ],
          "name": "stdout"
        }
      ]
    },
    {
      "cell_type": "code",
      "metadata": {
        "colab": {
          "base_uri": "https://localhost:8080/"
        },
        "id": "6GSHiFXFwHpX",
        "outputId": "40e07d51-50d4-4606-b5c2-40fbf63aadc9"
      },
      "source": [
        "x = np.arange(132, 144, 1)\r\n",
        "print(x)"
      ],
      "execution_count": null,
      "outputs": [
        {
          "output_type": "stream",
          "text": [
            "[132 133 134 135 136 137 138 139 140 141 142 143]\n"
          ],
          "name": "stdout"
        }
      ]
    },
    {
      "cell_type": "code",
      "metadata": {
        "colab": {
          "base_uri": "https://localhost:8080/",
          "height": 336
        },
        "id": "rD9sNpG1wI12",
        "outputId": "4ecbf75d-4137-4ddc-9280-54b08e8934c0"
      },
      "source": [
        "plt.title('Month vs Passenger')\r\n",
        "plt.ylabel('Total Passengers')\r\n",
        "plt.grid(True)\r\n",
        "plt.autoscale(axis='x', tight=True)\r\n",
        "plt.plot(flight_data['passengers'])\r\n",
        "plt.plot(x,actual_predictions)\r\n",
        "plt.show()"
      ],
      "execution_count": null,
      "outputs": [
        {
          "output_type": "display_data",
          "data": {
            "image/png": "[encoded data removed]",
            "text/plain": [
              "<Figure size 1080x360 with 1 Axes>"
            ]
          },
          "metadata": {
            "tags": [],
            "needs_background": "light"
          }
        }
      ]
    },
    {
      "cell_type": "code",
      "metadata": {
        "colab": {
          "base_uri": "https://localhost:8080/",
          "height": 336
        },
        "id": "yJ5ahKnIwKfl",
        "outputId": "84ffcc50-2f44-4f3d-d174-1c5db1d7e464"
      },
      "source": [
        "plt.title('Month vs Passenger')\r\n",
        "plt.ylabel('Total Passengers')\r\n",
        "plt.grid(True)\r\n",
        "plt.autoscale(axis='x', tight=True)\r\n",
        "\r\n",
        "plt.plot(flight_data['passengers'][-train_window:])\r\n",
        "plt.plot(x,actual_predictions)\r\n",
        "plt.show()"
      ],
      "execution_count": null,
      "outputs": [
        {
          "output_type": "display_data",
          "data": {
            "image/png": "[encoded data removed]",
            "text/plain": [
              "<Figure size 1080x360 with 1 Axes>"
            ]
          },
          "metadata": {
            "tags": [],
            "needs_background": "light"
          }
        }
      ]
    },
    {
      "cell_type": "code",
      "metadata": {
        "id": "gszGo3ai59pD"
      },
      "source": [
        ""
      ],
      "execution_count": null,
      "outputs": []
    }
  ]
}