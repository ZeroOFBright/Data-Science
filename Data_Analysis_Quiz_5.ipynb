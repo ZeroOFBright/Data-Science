{
  "nbformat": 4,
  "nbformat_minor": 0,
  "metadata": {
    "colab": {
      "name": "Data Analysis Quiz 5",
      "provenance": [],
      "toc_visible": true,
      "mount_file_id": "1IupgNjnV4SRU58k1vT2ggftwWpsNBnvi",
      "authorship_tag": "ABX9TyOut0yuhKwmN/NwHr5T/xYu",
      "include_colab_link": true
    },
    "kernelspec": {
      "name": "python3",
      "display_name": "Python 3"
    }
  },
  "cells": [
    {
      "cell_type": "markdown",
      "metadata": {
        "id": "view-in-github",
        "colab_type": "text"
      },
      "source": [
        "<a href=\"https://colab.research.google.com/github/ZeroOFBright/Data-Science/blob/Data-Analysis-Quiz-5/Data_Analysis_Quiz_5.ipynb\" target=\"_parent\"><img src=\"https://colab.research.google.com/assets/colab-badge.svg\" alt=\"Open In Colab\"/></a>"
      ]
    },
    {
      "cell_type": "code",
      "metadata": {
        "id": "1FUy_AKkfMmN"
      },
      "source": [
        "import pandas as pd\r\n",
        "import numpy as np\r\n",
        "import glob"
      ],
      "execution_count": null,
      "outputs": []
    },
    {
      "cell_type": "code",
      "metadata": {
        "colab": {
          "base_uri": "https://localhost:8080/",
          "height": 782
        },
        "id": "tnXAz-ushQt_",
        "outputId": "79475ce8-c0d9-4de1-d3e6-fdb9dac9a39a"
      },
      "source": [
        "path = r'/content/drive/MyDrive/2018-12-25' # use your path\r\n",
        "all_files = glob.glob(path + \"/*.csv\")\r\n",
        "\r\n",
        "li = []\r\n",
        "\r\n",
        "for filename in all_files:\r\n",
        "    df = pd.read_csv(filename, index_col=None, header=0)\r\n",
        "    li.append(df)\r\n",
        "\r\n",
        "frame = pd.concat(li, axis=0, ignore_index=True)\r\n",
        "frame"
      ],
      "execution_count": null,
      "outputs": [
        {
          "output_type": "execute_result",
          "data": {
            "text/html": [
              "<div>\n",
              "<style scoped>\n",
              "    .dataframe tbody tr th:only-of-type {\n",
              "        vertical-align: middle;\n",
              "    }\n",
              "\n",
              "    .dataframe tbody tr th {\n",
              "        vertical-align: top;\n",
              "    }\n",
              "\n",
              "    .dataframe thead th {\n",
              "        text-align: right;\n",
              "    }\n",
              "</style>\n",
              "<table border=\"1\" class=\"dataframe\">\n",
              "  <thead>\n",
              "    <tr style=\"text-align: right;\">\n",
              "      <th></th>\n",
              "      <th>vid</th>\n",
              "      <th>gpsvalid</th>\n",
              "      <th>lat</th>\n",
              "      <th>lon</th>\n",
              "      <th>timestamp</th>\n",
              "      <th>speed</th>\n",
              "      <th>heading</th>\n",
              "      <th>for_hire_light</th>\n",
              "      <th>engine_acc</th>\n",
              "      <th>city</th>\n",
              "    </tr>\n",
              "  </thead>\n",
              "  <tbody>\n",
              "    <tr>\n",
              "      <th>0</th>\n",
              "      <td>/Zj/M2Xz5uW1jUr3EJZwx07SUYE</td>\n",
              "      <td>1</td>\n",
              "      <td>13.70456</td>\n",
              "      <td>100.48583</td>\n",
              "      <td>2018-12-25 16:00:00</td>\n",
              "      <td>0</td>\n",
              "      <td>308</td>\n",
              "      <td>0</td>\n",
              "      <td>1</td>\n",
              "      <td>Bangkok</td>\n",
              "    </tr>\n",
              "    <tr>\n",
              "      <th>1</th>\n",
              "      <td>avZbZZiOTZ4dltE/symL8WeJ5YQ</td>\n",
              "      <td>1</td>\n",
              "      <td>13.72124</td>\n",
              "      <td>100.53021</td>\n",
              "      <td>2018-12-25 16:00:00</td>\n",
              "      <td>0</td>\n",
              "      <td>329</td>\n",
              "      <td>0</td>\n",
              "      <td>1</td>\n",
              "      <td>Bangkok</td>\n",
              "    </tr>\n",
              "    <tr>\n",
              "      <th>2</th>\n",
              "      <td>vtCX0mW0uUEqGiIiMwoeDLaPWI4</td>\n",
              "      <td>1</td>\n",
              "      <td>13.93287</td>\n",
              "      <td>100.68606</td>\n",
              "      <td>2018-12-25 16:00:00</td>\n",
              "      <td>22</td>\n",
              "      <td>88</td>\n",
              "      <td>1</td>\n",
              "      <td>1</td>\n",
              "      <td>Bangkok</td>\n",
              "    </tr>\n",
              "    <tr>\n",
              "      <th>3</th>\n",
              "      <td>L5lLRWLfD2kID9bUcYv1W1Ivhyo</td>\n",
              "      <td>1</td>\n",
              "      <td>13.73693</td>\n",
              "      <td>100.56151</td>\n",
              "      <td>2018-12-25 16:00:00</td>\n",
              "      <td>0</td>\n",
              "      <td>185</td>\n",
              "      <td>0</td>\n",
              "      <td>1</td>\n",
              "      <td>Bangkok</td>\n",
              "    </tr>\n",
              "    <tr>\n",
              "      <th>4</th>\n",
              "      <td>I+qBYDuuYwppA8mhB9tHgK8qgEo</td>\n",
              "      <td>1</td>\n",
              "      <td>13.86906</td>\n",
              "      <td>100.57335</td>\n",
              "      <td>2018-12-25 16:00:00</td>\n",
              "      <td>60</td>\n",
              "      <td>207</td>\n",
              "      <td>1</td>\n",
              "      <td>1</td>\n",
              "      <td>Bangkok</td>\n",
              "    </tr>\n",
              "    <tr>\n",
              "      <th>...</th>\n",
              "      <td>...</td>\n",
              "      <td>...</td>\n",
              "      <td>...</td>\n",
              "      <td>...</td>\n",
              "      <td>...</td>\n",
              "      <td>...</td>\n",
              "      <td>...</td>\n",
              "      <td>...</td>\n",
              "      <td>...</td>\n",
              "      <td>...</td>\n",
              "    </tr>\n",
              "    <tr>\n",
              "      <th>2495272</th>\n",
              "      <td>EvPgnx9e+fxfW921HxdF0U26BaI</td>\n",
              "      <td>1</td>\n",
              "      <td>13.81002</td>\n",
              "      <td>100.57542</td>\n",
              "      <td>2018-12-25 18:59:59</td>\n",
              "      <td>0</td>\n",
              "      <td>267</td>\n",
              "      <td>0</td>\n",
              "      <td>1</td>\n",
              "      <td>Bangkok</td>\n",
              "    </tr>\n",
              "    <tr>\n",
              "      <th>2495273</th>\n",
              "      <td>Eiy+wXYL59TbKdGWBtKWcljFMhE</td>\n",
              "      <td>1</td>\n",
              "      <td>13.68968</td>\n",
              "      <td>100.41034</td>\n",
              "      <td>2018-12-25 18:59:59</td>\n",
              "      <td>0</td>\n",
              "      <td>153</td>\n",
              "      <td>1</td>\n",
              "      <td>0</td>\n",
              "      <td>Bangkok</td>\n",
              "    </tr>\n",
              "    <tr>\n",
              "      <th>2495274</th>\n",
              "      <td>1zqQ5ggVcBrKOhN566Up8xF5PfY</td>\n",
              "      <td>1</td>\n",
              "      <td>13.75229</td>\n",
              "      <td>100.63965</td>\n",
              "      <td>2018-12-25 18:59:59</td>\n",
              "      <td>62</td>\n",
              "      <td>83</td>\n",
              "      <td>1</td>\n",
              "      <td>1</td>\n",
              "      <td>Bangkok</td>\n",
              "    </tr>\n",
              "    <tr>\n",
              "      <th>2495275</th>\n",
              "      <td>a1W2s8z4+SLnU9qIdhabsYd4K6o</td>\n",
              "      <td>1</td>\n",
              "      <td>13.90782</td>\n",
              "      <td>100.62051</td>\n",
              "      <td>2018-12-25 18:59:59</td>\n",
              "      <td>0</td>\n",
              "      <td>30</td>\n",
              "      <td>1</td>\n",
              "      <td>0</td>\n",
              "      <td>Bangkok</td>\n",
              "    </tr>\n",
              "    <tr>\n",
              "      <th>2495276</th>\n",
              "      <td>UXPVlJt7F6LdhyNrW1Y1DBXCXaU</td>\n",
              "      <td>1</td>\n",
              "      <td>13.71228</td>\n",
              "      <td>100.47254</td>\n",
              "      <td>2018-12-25 18:59:59</td>\n",
              "      <td>26</td>\n",
              "      <td>264</td>\n",
              "      <td>1</td>\n",
              "      <td>1</td>\n",
              "      <td>Bangkok</td>\n",
              "    </tr>\n",
              "  </tbody>\n",
              "</table>\n",
              "<p>2495277 rows × 10 columns</p>\n",
              "</div>"
            ],
            "text/plain": [
              "                                 vid  gpsvalid  ...  engine_acc     city\n",
              "0        /Zj/M2Xz5uW1jUr3EJZwx07SUYE         1  ...           1  Bangkok\n",
              "1        avZbZZiOTZ4dltE/symL8WeJ5YQ         1  ...           1  Bangkok\n",
              "2        vtCX0mW0uUEqGiIiMwoeDLaPWI4         1  ...           1  Bangkok\n",
              "3        L5lLRWLfD2kID9bUcYv1W1Ivhyo         1  ...           1  Bangkok\n",
              "4        I+qBYDuuYwppA8mhB9tHgK8qgEo         1  ...           1  Bangkok\n",
              "...                              ...       ...  ...         ...      ...\n",
              "2495272  EvPgnx9e+fxfW921HxdF0U26BaI         1  ...           1  Bangkok\n",
              "2495273  Eiy+wXYL59TbKdGWBtKWcljFMhE         1  ...           0  Bangkok\n",
              "2495274  1zqQ5ggVcBrKOhN566Up8xF5PfY         1  ...           1  Bangkok\n",
              "2495275  a1W2s8z4+SLnU9qIdhabsYd4K6o         1  ...           0  Bangkok\n",
              "2495276  UXPVlJt7F6LdhyNrW1Y1DBXCXaU         1  ...           1  Bangkok\n",
              "\n",
              "[2495277 rows x 10 columns]"
            ]
          },
          "metadata": {
            "tags": []
          },
          "execution_count": 18
        }
      ]
    },
    {
      "cell_type": "code",
      "metadata": {
        "colab": {
          "base_uri": "https://localhost:8080/",
          "height": 782
        },
        "id": "MTo7SeU3jT9P",
        "outputId": "a124157a-9210-4211-a7aa-f3e507768633"
      },
      "source": [
        "df1 = pd.read_csv(\"/content/drive/MyDrive/2018-12-25/2018-12-25.05.csv\")\r\n",
        "df1"
      ],
      "execution_count": null,
      "outputs": [
        {
          "output_type": "execute_result",
          "data": {
            "text/html": [
              "<div>\n",
              "<style scoped>\n",
              "    .dataframe tbody tr th:only-of-type {\n",
              "        vertical-align: middle;\n",
              "    }\n",
              "\n",
              "    .dataframe tbody tr th {\n",
              "        vertical-align: top;\n",
              "    }\n",
              "\n",
              "    .dataframe thead th {\n",
              "        text-align: right;\n",
              "    }\n",
              "</style>\n",
              "<table border=\"1\" class=\"dataframe\">\n",
              "  <thead>\n",
              "    <tr style=\"text-align: right;\">\n",
              "      <th></th>\n",
              "      <th>vid</th>\n",
              "      <th>gpsvalid</th>\n",
              "      <th>lat</th>\n",
              "      <th>lon</th>\n",
              "      <th>timestamp</th>\n",
              "      <th>speed</th>\n",
              "      <th>heading</th>\n",
              "      <th>for_hire_light</th>\n",
              "      <th>engine_acc</th>\n",
              "      <th>city</th>\n",
              "    </tr>\n",
              "  </thead>\n",
              "  <tbody>\n",
              "    <tr>\n",
              "      <th>0</th>\n",
              "      <td>pjy9IwPUVhWJ4T9amOrMzh1jiIc</td>\n",
              "      <td>1</td>\n",
              "      <td>13.66879</td>\n",
              "      <td>100.51302</td>\n",
              "      <td>2018-12-25 05:00:00</td>\n",
              "      <td>36</td>\n",
              "      <td>302</td>\n",
              "      <td>1</td>\n",
              "      <td>1</td>\n",
              "      <td>Bangkok</td>\n",
              "    </tr>\n",
              "    <tr>\n",
              "      <th>1</th>\n",
              "      <td>D1yS3NBW41iKDPpAa1ebGIgoECs</td>\n",
              "      <td>1</td>\n",
              "      <td>13.77991</td>\n",
              "      <td>100.39416</td>\n",
              "      <td>2018-12-25 05:00:00</td>\n",
              "      <td>0</td>\n",
              "      <td>173</td>\n",
              "      <td>1</td>\n",
              "      <td>0</td>\n",
              "      <td>Bangkok</td>\n",
              "    </tr>\n",
              "    <tr>\n",
              "      <th>2</th>\n",
              "      <td>cD+OB3LV8PISg+ax0k8eIveBmXg</td>\n",
              "      <td>1</td>\n",
              "      <td>13.80972</td>\n",
              "      <td>100.50938</td>\n",
              "      <td>2018-12-25 05:00:00</td>\n",
              "      <td>0</td>\n",
              "      <td>54</td>\n",
              "      <td>1</td>\n",
              "      <td>0</td>\n",
              "      <td>Bangkok</td>\n",
              "    </tr>\n",
              "    <tr>\n",
              "      <th>3</th>\n",
              "      <td>al+J6JFDSlVYnj571mGQQfjPtS0</td>\n",
              "      <td>1</td>\n",
              "      <td>13.92357</td>\n",
              "      <td>100.65541</td>\n",
              "      <td>2018-12-25 05:00:00</td>\n",
              "      <td>0</td>\n",
              "      <td>181</td>\n",
              "      <td>1</td>\n",
              "      <td>0</td>\n",
              "      <td>Bangkok</td>\n",
              "    </tr>\n",
              "    <tr>\n",
              "      <th>4</th>\n",
              "      <td>8TnKtxD0Utvep2A33w2Wh3PXAiY</td>\n",
              "      <td>1</td>\n",
              "      <td>13.70686</td>\n",
              "      <td>100.41914</td>\n",
              "      <td>2018-12-25 05:00:00</td>\n",
              "      <td>0</td>\n",
              "      <td>103</td>\n",
              "      <td>0</td>\n",
              "      <td>0</td>\n",
              "      <td>Bangkok</td>\n",
              "    </tr>\n",
              "    <tr>\n",
              "      <th>...</th>\n",
              "      <td>...</td>\n",
              "      <td>...</td>\n",
              "      <td>...</td>\n",
              "      <td>...</td>\n",
              "      <td>...</td>\n",
              "      <td>...</td>\n",
              "      <td>...</td>\n",
              "      <td>...</td>\n",
              "      <td>...</td>\n",
              "      <td>...</td>\n",
              "    </tr>\n",
              "    <tr>\n",
              "      <th>88589</th>\n",
              "      <td>WTPX1OPguJTNoQCGxTdSIMDoqi4</td>\n",
              "      <td>1</td>\n",
              "      <td>13.68820</td>\n",
              "      <td>100.61516</td>\n",
              "      <td>2018-12-25 05:59:59</td>\n",
              "      <td>0</td>\n",
              "      <td>154</td>\n",
              "      <td>1</td>\n",
              "      <td>0</td>\n",
              "      <td>Bangkok</td>\n",
              "    </tr>\n",
              "    <tr>\n",
              "      <th>88590</th>\n",
              "      <td>89RpA2ELBuNF9x/EoaglsCtshk0</td>\n",
              "      <td>1</td>\n",
              "      <td>13.74279</td>\n",
              "      <td>100.59161</td>\n",
              "      <td>2018-12-25 05:59:59</td>\n",
              "      <td>39</td>\n",
              "      <td>203</td>\n",
              "      <td>0</td>\n",
              "      <td>1</td>\n",
              "      <td>Bangkok</td>\n",
              "    </tr>\n",
              "    <tr>\n",
              "      <th>88591</th>\n",
              "      <td>YNPfUVHADjCPLlFrCLKle6gh1VQ</td>\n",
              "      <td>1</td>\n",
              "      <td>13.78264</td>\n",
              "      <td>100.44334</td>\n",
              "      <td>2018-12-25 05:59:59</td>\n",
              "      <td>37</td>\n",
              "      <td>177</td>\n",
              "      <td>1</td>\n",
              "      <td>1</td>\n",
              "      <td>Bangkok</td>\n",
              "    </tr>\n",
              "    <tr>\n",
              "      <th>88592</th>\n",
              "      <td>iQ636QpbczfaRlYxjDoB+l/wmss</td>\n",
              "      <td>1</td>\n",
              "      <td>13.91401</td>\n",
              "      <td>100.59902</td>\n",
              "      <td>2018-12-25 05:59:59</td>\n",
              "      <td>12</td>\n",
              "      <td>195</td>\n",
              "      <td>0</td>\n",
              "      <td>1</td>\n",
              "      <td>Bangkok</td>\n",
              "    </tr>\n",
              "    <tr>\n",
              "      <th>88593</th>\n",
              "      <td>DojNVh84/JKYv2r9TzYJGOUSLCY</td>\n",
              "      <td>1</td>\n",
              "      <td>13.73042</td>\n",
              "      <td>100.69139</td>\n",
              "      <td>2018-12-25 05:59:59</td>\n",
              "      <td>0</td>\n",
              "      <td>288</td>\n",
              "      <td>1</td>\n",
              "      <td>0</td>\n",
              "      <td>Bangkok</td>\n",
              "    </tr>\n",
              "  </tbody>\n",
              "</table>\n",
              "<p>88594 rows × 10 columns</p>\n",
              "</div>"
            ],
            "text/plain": [
              "                               vid  gpsvalid  ...  engine_acc     city\n",
              "0      pjy9IwPUVhWJ4T9amOrMzh1jiIc         1  ...           1  Bangkok\n",
              "1      D1yS3NBW41iKDPpAa1ebGIgoECs         1  ...           0  Bangkok\n",
              "2      cD+OB3LV8PISg+ax0k8eIveBmXg         1  ...           0  Bangkok\n",
              "3      al+J6JFDSlVYnj571mGQQfjPtS0         1  ...           0  Bangkok\n",
              "4      8TnKtxD0Utvep2A33w2Wh3PXAiY         1  ...           0  Bangkok\n",
              "...                            ...       ...  ...         ...      ...\n",
              "88589  WTPX1OPguJTNoQCGxTdSIMDoqi4         1  ...           0  Bangkok\n",
              "88590  89RpA2ELBuNF9x/EoaglsCtshk0         1  ...           1  Bangkok\n",
              "88591  YNPfUVHADjCPLlFrCLKle6gh1VQ         1  ...           1  Bangkok\n",
              "88592  iQ636QpbczfaRlYxjDoB+l/wmss         1  ...           1  Bangkok\n",
              "88593  DojNVh84/JKYv2r9TzYJGOUSLCY         1  ...           0  Bangkok\n",
              "\n",
              "[88594 rows x 10 columns]"
            ]
          },
          "metadata": {
            "tags": []
          },
          "execution_count": 19
        }
      ]
    },
    {
      "cell_type": "markdown",
      "metadata": {
        "id": "HTXxj7-aA7uv"
      },
      "source": [
        "# จำนวน taxi ใน file 2018-12-25.05.*csv*"
      ]
    },
    {
      "cell_type": "code",
      "metadata": {
        "colab": {
          "base_uri": "https://localhost:8080/"
        },
        "id": "3H5z-PXTjj2K",
        "outputId": "480355ca-055a-4a94-b003-bc011454f498"
      },
      "source": [
        "num = df1[\"vid\"].drop_duplicates().count()\r\n",
        "num"
      ],
      "execution_count": null,
      "outputs": [
        {
          "output_type": "execute_result",
          "data": {
            "text/plain": [
              "3485"
            ]
          },
          "metadata": {
            "tags": []
          },
          "execution_count": 20
        }
      ]
    },
    {
      "cell_type": "markdown",
      "metadata": {
        "id": "B3Il8mxSBTc7"
      },
      "source": [
        "# ความเร็วเฉลี่ยของ taxi ใน file 2018-12-25.05.csv ในขณะที่มีผู็โดยสาร และ ไม่คิดตอนความเร็วเป็น 0"
      ]
    },
    {
      "cell_type": "code",
      "metadata": {
        "colab": {
          "base_uri": "https://localhost:8080/"
        },
        "id": "YeM2nDrkkJVv",
        "outputId": "9dcdf311-ae29-4a3f-891f-9272748ac9de"
      },
      "source": [
        "speed = df1[\"speed\"][(df1[\"for_hire_light\"] == 0) & (df1[\"speed\"] != 0)]\r\n",
        "speed"
      ],
      "execution_count": null,
      "outputs": [
        {
          "output_type": "execute_result",
          "data": {
            "text/plain": [
              "8        48\n",
              "13       47\n",
              "17       21\n",
              "19       26\n",
              "21       72\n",
              "         ..\n",
              "88568    45\n",
              "88576    34\n",
              "88582    36\n",
              "88590    39\n",
              "88592    12\n",
              "Name: speed, Length: 10846, dtype: int64"
            ]
          },
          "metadata": {
            "tags": []
          },
          "execution_count": 21
        }
      ]
    },
    {
      "cell_type": "code",
      "metadata": {
        "colab": {
          "base_uri": "https://localhost:8080/"
        },
        "id": "xc2IXGf6lMqI",
        "outputId": "abbb3d5b-2377-4042-d03e-54474036ce39"
      },
      "source": [
        "mean = speed.mean()\r\n",
        "mean"
      ],
      "execution_count": null,
      "outputs": [
        {
          "output_type": "execute_result",
          "data": {
            "text/plain": [
              "37.217591738889915"
            ]
          },
          "metadata": {
            "tags": []
          },
          "execution_count": 22
        }
      ]
    },
    {
      "cell_type": "markdown",
      "metadata": {
        "id": "lbhdFRB8ANrm"
      },
      "source": [
        "# ความเร็วเฉลี่ยของ taxi หมายเลข ... ในขณะที่มีผู้โดยสาร"
      ]
    },
    {
      "cell_type": "code",
      "metadata": {
        "colab": {
          "base_uri": "https://localhost:8080/",
          "height": 526
        },
        "id": "p2NClJgdljT1",
        "outputId": "e00808d0-3d80-4cbf-dd51-78ede2fa46d8"
      },
      "source": [
        "taxi = df1[ (df1[\"vid\"] == \"bwmSJnFxrwrAUjqBcqCWOlj5f9Y\") & (df1[\"for_hire_light\"] == 0) ]\r\n",
        "taxi"
      ],
      "execution_count": null,
      "outputs": [
        {
          "output_type": "execute_result",
          "data": {
            "text/html": [
              "<div>\n",
              "<style scoped>\n",
              "    .dataframe tbody tr th:only-of-type {\n",
              "        vertical-align: middle;\n",
              "    }\n",
              "\n",
              "    .dataframe tbody tr th {\n",
              "        vertical-align: top;\n",
              "    }\n",
              "\n",
              "    .dataframe thead th {\n",
              "        text-align: right;\n",
              "    }\n",
              "</style>\n",
              "<table border=\"1\" class=\"dataframe\">\n",
              "  <thead>\n",
              "    <tr style=\"text-align: right;\">\n",
              "      <th></th>\n",
              "      <th>vid</th>\n",
              "      <th>gpsvalid</th>\n",
              "      <th>lat</th>\n",
              "      <th>lon</th>\n",
              "      <th>timestamp</th>\n",
              "      <th>speed</th>\n",
              "      <th>heading</th>\n",
              "      <th>for_hire_light</th>\n",
              "      <th>engine_acc</th>\n",
              "      <th>city</th>\n",
              "    </tr>\n",
              "  </thead>\n",
              "  <tbody>\n",
              "    <tr>\n",
              "      <th>7389</th>\n",
              "      <td>bwmSJnFxrwrAUjqBcqCWOlj5f9Y</td>\n",
              "      <td>1</td>\n",
              "      <td>13.71271</td>\n",
              "      <td>100.47125</td>\n",
              "      <td>2018-12-25 05:05:11</td>\n",
              "      <td>0</td>\n",
              "      <td>205</td>\n",
              "      <td>0</td>\n",
              "      <td>1</td>\n",
              "      <td>Bangkok</td>\n",
              "    </tr>\n",
              "    <tr>\n",
              "      <th>8755</th>\n",
              "      <td>bwmSJnFxrwrAUjqBcqCWOlj5f9Y</td>\n",
              "      <td>1</td>\n",
              "      <td>13.70653</td>\n",
              "      <td>100.46848</td>\n",
              "      <td>2018-12-25 05:06:11</td>\n",
              "      <td>50</td>\n",
              "      <td>203</td>\n",
              "      <td>0</td>\n",
              "      <td>1</td>\n",
              "      <td>Bangkok</td>\n",
              "    </tr>\n",
              "    <tr>\n",
              "      <th>10122</th>\n",
              "      <td>bwmSJnFxrwrAUjqBcqCWOlj5f9Y</td>\n",
              "      <td>1</td>\n",
              "      <td>13.70135</td>\n",
              "      <td>100.46837</td>\n",
              "      <td>2018-12-25 05:07:11</td>\n",
              "      <td>39</td>\n",
              "      <td>206</td>\n",
              "      <td>0</td>\n",
              "      <td>1</td>\n",
              "      <td>Bangkok</td>\n",
              "    </tr>\n",
              "    <tr>\n",
              "      <th>11636</th>\n",
              "      <td>bwmSJnFxrwrAUjqBcqCWOlj5f9Y</td>\n",
              "      <td>1</td>\n",
              "      <td>13.69906</td>\n",
              "      <td>100.46928</td>\n",
              "      <td>2018-12-25 05:08:11</td>\n",
              "      <td>46</td>\n",
              "      <td>98</td>\n",
              "      <td>0</td>\n",
              "      <td>1</td>\n",
              "      <td>Bangkok</td>\n",
              "    </tr>\n",
              "    <tr>\n",
              "      <th>18800</th>\n",
              "      <td>bwmSJnFxrwrAUjqBcqCWOlj5f9Y</td>\n",
              "      <td>1</td>\n",
              "      <td>13.70771</td>\n",
              "      <td>100.48653</td>\n",
              "      <td>2018-12-25 05:13:11</td>\n",
              "      <td>52</td>\n",
              "      <td>18</td>\n",
              "      <td>0</td>\n",
              "      <td>1</td>\n",
              "      <td>Bangkok</td>\n",
              "    </tr>\n",
              "    <tr>\n",
              "      <th>24580</th>\n",
              "      <td>bwmSJnFxrwrAUjqBcqCWOlj5f9Y</td>\n",
              "      <td>1</td>\n",
              "      <td>13.71319</td>\n",
              "      <td>100.48870</td>\n",
              "      <td>2018-12-25 05:17:11</td>\n",
              "      <td>0</td>\n",
              "      <td>201</td>\n",
              "      <td>0</td>\n",
              "      <td>1</td>\n",
              "      <td>Bangkok</td>\n",
              "    </tr>\n",
              "    <tr>\n",
              "      <th>28969</th>\n",
              "      <td>bwmSJnFxrwrAUjqBcqCWOlj5f9Y</td>\n",
              "      <td>1</td>\n",
              "      <td>13.70142</td>\n",
              "      <td>100.49132</td>\n",
              "      <td>2018-12-25 05:20:11</td>\n",
              "      <td>63</td>\n",
              "      <td>118</td>\n",
              "      <td>0</td>\n",
              "      <td>1</td>\n",
              "      <td>Bangkok</td>\n",
              "    </tr>\n",
              "  </tbody>\n",
              "</table>\n",
              "</div>"
            ],
            "text/plain": [
              "                               vid  gpsvalid  ...  engine_acc     city\n",
              "7389   bwmSJnFxrwrAUjqBcqCWOlj5f9Y         1  ...           1  Bangkok\n",
              "8755   bwmSJnFxrwrAUjqBcqCWOlj5f9Y         1  ...           1  Bangkok\n",
              "10122  bwmSJnFxrwrAUjqBcqCWOlj5f9Y         1  ...           1  Bangkok\n",
              "11636  bwmSJnFxrwrAUjqBcqCWOlj5f9Y         1  ...           1  Bangkok\n",
              "18800  bwmSJnFxrwrAUjqBcqCWOlj5f9Y         1  ...           1  Bangkok\n",
              "24580  bwmSJnFxrwrAUjqBcqCWOlj5f9Y         1  ...           1  Bangkok\n",
              "28969  bwmSJnFxrwrAUjqBcqCWOlj5f9Y         1  ...           1  Bangkok\n",
              "\n",
              "[7 rows x 10 columns]"
            ]
          },
          "metadata": {
            "tags": []
          },
          "execution_count": 23
        }
      ]
    },
    {
      "cell_type": "markdown",
      "metadata": {
        "id": "ezlledCsAcws"
      },
      "source": [
        "# ความเร็วเฉลี่ยของtaxi ที่มีผู้โดยสาร โดยไม่คิดตอนความเร็วเป็น 0 "
      ]
    },
    {
      "cell_type": "code",
      "metadata": {
        "colab": {
          "base_uri": "https://localhost:8080/"
        },
        "id": "DO6z6eBFnv31",
        "outputId": "ef569b1b-3199-4dc5-c542-a69a7a949cce"
      },
      "source": [
        "speed_allday = frame[\"speed\"][(frame[\"for_hire_light\"] == 0) & (frame[\"speed\"] != 0)]\r\n",
        "speed_allday.mean()"
      ],
      "execution_count": null,
      "outputs": [
        {
          "output_type": "execute_result",
          "data": {
            "text/plain": [
              "31.08094189108873"
            ]
          },
          "metadata": {
            "tags": []
          },
          "execution_count": 24
        }
      ]
    },
    {
      "cell_type": "markdown",
      "metadata": {
        "id": "4n7VptGk_69P"
      },
      "source": [
        "# ความเร็วสูงสุดเฉลี่ย จาก taxi แต่ละคน ตอนมีผู้โดยสาร"
      ]
    },
    {
      "cell_type": "code",
      "metadata": {
        "colab": {
          "base_uri": "https://localhost:8080/"
        },
        "id": "X1CE9e-LrTbV",
        "outputId": "f562084b-ad8e-432a-eee7-8435bc050e11"
      },
      "source": [
        "max_speed = frame.filter([\"vid\",\"speed\",\"for_hire_light\"]).query(\"for_hire_light == 0 and speed != 0\").groupby(\"vid\").max().mean()\r\n",
        "max_speed"
      ],
      "execution_count": null,
      "outputs": [
        {
          "output_type": "execute_result",
          "data": {
            "text/plain": [
              "speed             76.852551\n",
              "for_hire_light     0.000000\n",
              "dtype: float64"
            ]
          },
          "metadata": {
            "tags": []
          },
          "execution_count": 25
        }
      ]
    },
    {
      "cell_type": "markdown",
      "metadata": {
        "id": "22xw5b34_jYT"
      },
      "source": [
        "# เวลาที่ Taxi มีจำนวนมากที่สุด\r\n",
        "\r\n",
        "\r\n",
        "\r\n",
        "\r\n",
        "\r\n"
      ]
    },
    {
      "cell_type": "code",
      "metadata": {
        "colab": {
          "base_uri": "https://localhost:8080/"
        },
        "id": "hJbtPtHWuE_e",
        "outputId": "b3292ad3-9fd7-455c-933d-c17da77ff1d2"
      },
      "source": [
        "frame[\"timestamp\"] = pd.to_datetime(frame[\"timestamp\"])\r\n",
        "group_time = frame.filter([\"vid\",\"timestamp\"]).groupby([pd.Grouper(key='timestamp',freq='1H')]).vid.nunique()\r\n",
        "group_time"
      ],
      "execution_count": null,
      "outputs": [
        {
          "output_type": "execute_result",
          "data": {
            "text/plain": [
              "timestamp\n",
              "2018-12-25 00:00:00    3507\n",
              "2018-12-25 01:00:00    3415\n",
              "2018-12-25 02:00:00    3367\n",
              "2018-12-25 03:00:00    3334\n",
              "2018-12-25 04:00:00    3364\n",
              "2018-12-25 05:00:00    3485\n",
              "2018-12-25 06:00:00    3616\n",
              "2018-12-25 07:00:00    3726\n",
              "2018-12-25 08:00:00    3739\n",
              "2018-12-25 09:00:00    3818\n",
              "2018-12-25 10:00:00    3855\n",
              "2018-12-25 11:00:00    3872\n",
              "2018-12-25 12:00:00    3928\n",
              "2018-12-25 13:00:00    3957\n",
              "2018-12-25 14:00:00    4009\n",
              "2018-12-25 15:00:00    3988\n",
              "2018-12-25 16:00:00    3964\n",
              "2018-12-25 17:00:00    3931\n",
              "2018-12-25 18:00:00    3912\n",
              "2018-12-25 19:00:00    3969\n",
              "2018-12-25 20:00:00    3930\n",
              "2018-12-25 21:00:00    3820\n",
              "2018-12-25 22:00:00    3742\n",
              "2018-12-25 23:00:00    3661\n",
              "Freq: H, Name: vid, dtype: int64"
            ]
          },
          "metadata": {
            "tags": []
          },
          "execution_count": 26
        }
      ]
    },
    {
      "cell_type": "code",
      "metadata": {
        "colab": {
          "base_uri": "https://localhost:8080/"
        },
        "id": "gQNCYKGn63wz",
        "outputId": "f4ae7a90-270a-49dc-81ad-303f4b6326d3"
      },
      "source": [
        "group_time.argmax()"
      ],
      "execution_count": null,
      "outputs": [
        {
          "output_type": "execute_result",
          "data": {
            "text/plain": [
              "14"
            ]
          },
          "metadata": {
            "tags": []
          },
          "execution_count": 28
        }
      ]
    },
    {
      "cell_type": "code",
      "metadata": {
        "id": "qEdm2bc_8fN4"
      },
      "source": [
        ""
      ],
      "execution_count": null,
      "outputs": []
    }
  ]
}